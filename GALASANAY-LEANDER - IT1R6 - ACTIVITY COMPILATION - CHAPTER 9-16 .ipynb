{
 "cells": [
  {
   "cell_type": "code",
   "execution_count": 7,
   "id": "municipal-maximum",
   "metadata": {},
   "outputs": [
    {
     "name": "stdout",
     "output_type": "stream",
     "text": [
      "Discuss your learnings on Chapter 9. Minimum of 200 characters\n",
      "Chapter 9 learnings are the following\n",
      "In this chapter I learned what is the use of graph data structure in todays advanced technology and we could say that in today's technology we could see that graph is used in popular applications and websites like the facebook, google, twitter, shopee and other social media. When you use the online applications you will notice that there will be suggestions either products or people you might know, in this scenario they used the graph data structure in which if you search a product then there will be suggestions you might want to visit or look at and this is because it is linked to the product you searched and the link is called edge in graph data structure.\n",
      "While the product you searched or the things that you search is represented as a vertex in graph data structure, each node in the graph is represented as a nodes also referred to as a vertex and the one that connects them is called edge and path reperesents the the sequence of edges between two vertices. Graph is used to represent a networks like the internet, telephones and etc, and because of this i wonder whats the difference between tree and graph as i watched the video i understand that tree should be one path only and always has direction while the graph could reach a node or vertex with different path like it could go a lot of nodes just to reach that node.\n"
     ]
    }
   ],
   "source": [
    "print (\"Discuss your learnings on Chapter 9. Minimum of 200 characters\")\n",
    "print (\"Chapter 9 learnings are the following\")\n",
    "print (\"In this chapter I learned what is the use of graph data structure in todays advanced technology and we could say that in today's technology we could see that graph is used in popular applications and websites like the facebook, google, twitter, shopee and other social media. When you use the online applications you will notice that there will be suggestions either products or people you might know, in this scenario they used the graph data structure in which if you search a product then there will be suggestions you might want to visit or look at and this is because it is linked to the product you searched and the link is called edge in graph data structure.\")\n",
    "print (\"While the product you searched or the things that you search is represented as a vertex in graph data structure, each node in the graph is represented as a nodes also referred to as a vertex and the one that connects them is called edge and path reperesents the the sequence of edges between two vertices. Graph is used to represent a networks like the internet, telephones and etc, and because of this i wonder whats the difference between tree and graph as i watched the video i understand that tree should be one path only and always has direction while the graph could reach a node or vertex with different path like it could go a lot of nodes just to reach that node.\")\n",
    "\n"
   ]
  },
  {
   "cell_type": "code",
   "execution_count": 9,
   "id": "suspected-stationery",
   "metadata": {},
   "outputs": [
    {
     "name": "stdout",
     "output_type": "stream",
     "text": [
      "Discuss your learnings on Chapter 10. Minimum of 200 characters\n",
      "Chapter 10 learnings are the following\n",
      "In this chapter I learned how a binary search works. For a binary search to work the data inputed must be sorted so that the search will first go to the middle of the array and compare it if the value in the middle is less or the value in the middle is greater than the search value, in that case if the searched value is lesser than the value in the middle it wil search only on the left hand side of the middle value and if the searched value is greater then it will search only on the right hand side of the middle value, and then divide it and divide until the target value is found and I notice it that it is using the divide and conquer algorithm, in which divide and conquer breaks or divides the problem into two until there will be no more division is possible. Binary search is a fast search algorithm like in the video shown it was only 3 iteration not 7 iteration it really saves time most especially when you have a thousand or a million data it will really save you the time of searching. \n"
     ]
    }
   ],
   "source": [
    "print (\"Discuss your learnings on Chapter 10. Minimum of 200 characters\")\n",
    "print (\"Chapter 10 learnings are the following\")\n",
    "print (\"In this chapter I learned how a binary search works. For a binary search to work the data inputed must be sorted so that the search will first go to the middle of the array and compare it if the value in the middle is less or the value in the middle is greater than the search value, in that case if the searched value is lesser than the value in the middle it wil search only on the left hand side of the middle value and if the searched value is greater then it will search only on the right hand side of the middle value, and then divide it and divide until the target value is found and I notice it that it is using the divide and conquer algorithm, in which divide and conquer breaks or divides the problem into two until there will be no more division is possible. Binary search is a fast search algorithm like in the video shown it was only 3 iteration not 7 iteration it really saves time most especially when you have a thousand or a million data it will really save you the time of searching. \")\n",
    "\n"
   ]
  },
  {
   "cell_type": "code",
   "execution_count": 13,
   "id": "undefined-suicide",
   "metadata": {},
   "outputs": [
    {
     "name": "stdout",
     "output_type": "stream",
     "text": [
      "Discuss your learnings on Chapter 11. Minimum of 200 characters\n",
      "Chapter 11 learnings are the following\n",
      "In this chapter I learned how the bubble sort works on a raw data. Bubble sort works by comparing two elements from left to right and swapping them if it is out of order until the largest value is in the right side and the smallest value is in the right place or position. Bubble sort is a simple sorting algorithm that repeatedly steps through the list, bubble sort is called bubble because just like the bubbles the bigger bubbles will go to the top  and like in the array it will go to the right side and bubble sort is sometimes called the sinking sort as the small valeu data will sink in an array.\n",
      "The iteration of sorting in the bubble sort is called pass, the more pass it has the more the data it sorts, as the pass goes on the chance of getting a less iteration is possible since the swapped values the smaller one are getting on there right place or position in which it makes it short and precise.\n"
     ]
    }
   ],
   "source": [
    "print (\"Discuss your learnings on Chapter 11. Minimum of 200 characters\")\n",
    "print (\"Chapter 11 learnings are the following\")\n",
    "print (\"In this chapter I learned how the bubble sort works on a raw data. Bubble sort works by comparing two elements from left to right and swapping them if it is out of order until the largest value is in the right side and the smallest value is in the right place or position. Bubble sort is a simple sorting algorithm that repeatedly steps through the list, bubble sort is called bubble because just like the bubbles the bigger bubbles will go to the top  and like in the array it will go to the right side and bubble sort is sometimes called the sinking sort as the small valeu data will sink in an array.\")\n",
    "print (\"The iteration of sorting in the bubble sort is called pass, the more pass it has the more the data it sorts, as the pass goes on the chance of getting a less iteration is possible since the swapped values the smaller one are getting on there right place or position in which it makes it short and precise.\")\n",
    "\n"
   ]
  },
  {
   "cell_type": "code",
   "execution_count": 15,
   "id": "statewide-zimbabwe",
   "metadata": {},
   "outputs": [
    {
     "name": "stdout",
     "output_type": "stream",
     "text": [
      "Discuss your learnings on Chapter 12. Minimum of 200 characters\n",
      "Chapter 12 learnings are the following\n",
      "In this chapter I learned how to sort things using the quick sort. Quick sort is like a merge sort in which it uses the divide and conquer algorithm in which divide and conquer algorithm breaks or divides the data into two until there will be no more division is possible, unlike merge sort, quick sort has a pivot value in which the pivot value will be the one sorted first or like it will be in the right place then the pivot has the left and right partition in which the left partition is the lesser value of the pivot and the right value is the greater value of pivot.\n",
      "In sorting the values using the quick sort we will use two pointers the start and end, the first pivot could be on the right side, middle or even in the left side but most quick sort starts from the left side so when you start on the left sideyou will have the start pointer on that side, in this case the start pointer going to the right side it will find a value that is greater than the value of pivot or the number 54 and in the end pointer going to the left side it will find a value that is lesser than the pivot and then swap the values and repeat the same method until your pivot will be swapped in which it will be the right place of the pivot or in simple ways the first pivot is already sorted, so you have now the left side with a lesser value than the pivot and the right side with a greater value than the pivot. After that the first value in the left will be the next pivot and just do the same process earlier until the left side is sorted and on the right side of the first pivot just do the same like you do in the left side until it will be sorted.\n"
     ]
    }
   ],
   "source": [
    "print (\"Discuss your learnings on Chapter 12. Minimum of 200 characters\")\n",
    "print (\"Chapter 12 learnings are the following\")\n",
    "print (\"In this chapter I learned how to sort things using the quick sort. Quick sort is like a merge sort in which it uses the divide and conquer algorithm in which divide and conquer algorithm breaks or divides the data into two until there will be no more division is possible, unlike merge sort, quick sort has a pivot value in which the pivot value will be the one sorted first or like it will be in the right place then the pivot has the left and right partition in which the left partition is the lesser value of the pivot and the right value is the greater value of pivot.\")\n",
    "print (\"In sorting the values using the quick sort we will use two pointers the start and end, the first pivot could be on the right side, middle or even in the left side but most quick sort starts from the left side so when you start on the left sideyou will have the start pointer on that side, in this case the start pointer going to the right side it will find a value that is greater than the value of pivot or the number 54 and in the end pointer going to the left side it will find a value that is lesser than the pivot and then swap the values and repeat the same method until your pivot will be swapped in which it will be the right place of the pivot or in simple ways the first pivot is already sorted, so you have now the left side with a lesser value than the pivot and the right side with a greater value than the pivot. After that the first value in the left will be the next pivot and just do the same process earlier until the left side is sorted and on the right side of the first pivot just do the same like you do in the left side until it will be sorted.\")\n",
    "\n"
   ]
  },
  {
   "cell_type": "code",
   "execution_count": 17,
   "id": "final-electronics",
   "metadata": {},
   "outputs": [
    {
     "name": "stdout",
     "output_type": "stream",
     "text": [
      "Discuss your learnings on Chapter 13. Minimum of 200 characters\n",
      "Chapter 13 learnings are the following\n",
      "In this chapter I learned the process of sorting in insertion sort. Just from the word itself it compares data in an array and swap or insert it so that it will be sorted. Insertion sort is a in place comparison algorithm in which the in place comparison sort is a type of sorting algorithm that only reads the list elements through a single abstract comparison operation often a a less than or equal to operator or a three-way comparison that determines which of two elements should occur first in the final sorted list. In coding the insertion sort it uses a loop because it compares the data in the array and insert it if its out of the order. It may seems taht the bubble and insertion sort are a like as they compare and swap the data's in an array but in bubble sort you can't go back since you are moving the larger value to the right side unlike the insertion sort it inserts a smaller data when it will be compare to a greater value. \n",
      "The insertion sort is not an ideal sorting method when it comes to thousand or a million data as it compares them one by one in which it takes so much time and space.\n"
     ]
    }
   ],
   "source": [
    "print (\"Discuss your learnings on Chapter 13. Minimum of 200 characters\")\n",
    "print (\"Chapter 13 learnings are the following\")\n",
    "print (\"In this chapter I learned the process of sorting in insertion sort. Just from the word itself it compares data in an array and swap or insert it so that it will be sorted. Insertion sort is a in place comparison algorithm in which the in place comparison sort is a type of sorting algorithm that only reads the list elements through a single abstract comparison operation often a a less than or equal to operator or a three-way comparison that determines which of two elements should occur first in the final sorted list. In coding the insertion sort it uses a loop because it compares the data in the array and insert it if its out of the order. It may seems taht the bubble and insertion sort are a like as they compare and swap the data's in an array but in bubble sort you can't go back since you are moving the larger value to the right side unlike the insertion sort it inserts a smaller data when it will be compare to a greater value. \")\n",
    "print (\"The insertion sort is not an ideal sorting method when it comes to thousand or a million data as it compares them one by one in which it takes so much time and space.\")\n"
   ]
  },
  {
   "cell_type": "code",
   "execution_count": 2,
   "id": "later-freeware",
   "metadata": {},
   "outputs": [
    {
     "name": "stdout",
     "output_type": "stream",
     "text": [
      "Discuss your learnings on Chapter 14. Minimum of 200 characters\n",
      "Chapter 14 learnings are the following\n",
      "In this chapter I learned the method in sorting the array using the merge sort method. Merge sort is one of the most efficient sorting algorithms, merge sort method is like the quick sort but no pivot as it uses the divide and conquer algorithm in which divide and conquer algorithm breaks or divides the data in the array into two until there will be no more division is possible. Merge sort basically works like from a raw data in the array it divide the array into two and then divide again to two until it will gonaa be a single element array and in there the single element will be compared to the a single element too and it will be a sorted two element and the two elements will be compared to the other two elements of an array and just repeat it snd then merging the two halves until the data is a sorted array.\n"
     ]
    }
   ],
   "source": [
    "print (\"Discuss your learnings on Chapter 14. Minimum of 200 characters\")\n",
    "print (\"Chapter 14 learnings are the following\")\n",
    "print (\"In this chapter I learned the method in sorting the array using the merge sort method. Merge sort is one of the most efficient sorting algorithms, merge sort method is like the quick sort but no pivot as it uses the divide and conquer algorithm in which divide and conquer algorithm breaks or divides the data in the array into two until there will be no more division is possible. Merge sort basically works like from a raw data in the array it divide the array into two and then divide again to two until it will gonaa be a single element array and in there the single element will be compared to the a single element too and it will be a sorted two element and the two elements will be compared to the other two elements of an array and just repeat it snd then merging the two halves until the data is a sorted array.\")\n",
    "\n"
   ]
  },
  {
   "cell_type": "code",
   "execution_count": 6,
   "id": "ahead-emergency",
   "metadata": {},
   "outputs": [
    {
     "name": "stdout",
     "output_type": "stream",
     "text": [
      "Discuss your learnings on Chapter 15. Minimum of 200 characters\n",
      "Chapter 15 learnings are the following\n",
      "In this chapter I learned the process of sorting data in an array using the shell sort. Shell sort is a highly efficient sorting algorithm and is somewhat the same with the insertion sort algorithm, this algorithm avoids large shifts as in case of insertion sort, if the smaller value is to the far right and has to be moved to the far left just like the insertion sort method. Shell sort first try to sort the data in a large interval or gap and then moves to a lesser gap until the gap is only 1 and in there you can see that it uses the insertion sort algorithm as it just swaps the data that is out of order. When using the shell sort in sorting the data it has a formula for getting the gap sequence or the interval sequence on sorting and the formula used is h = h * 3 + 1, where the initial value of h is 1 and this formula is known as the knuth's formula. The main characteristics of this sorting method is the use of interval or sometimes called gap. This sorting algorithm has a 0(n) average and worst case complexity as it depends on the gap sequence and it means it is quite good when using it on a medium size data set.  \n"
     ]
    }
   ],
   "source": [
    "print (\"Discuss your learnings on Chapter 15. Minimum of 200 characters\")\n",
    "print (\"Chapter 15 learnings are the following\")\n",
    "print (\"In this chapter I learned the process of sorting data in an array using the shell sort. Shell sort is a highly efficient sorting algorithm and is somewhat the same with the insertion sort algorithm, this algorithm avoids large shifts as in case of insertion sort, if the smaller value is to the far right and has to be moved to the far left just like the insertion sort method. Shell sort first try to sort the data in a large interval or gap and then moves to a lesser gap until the gap is only 1 and in there you can see that it uses the insertion sort algorithm as it just swaps the data that is out of order. When using the shell sort in sorting the data it has a formula for getting the gap sequence or the interval sequence on sorting and the formula used is h = h * 3 + 1, where the initial value of h is 1 and this formula is known as the knuth's formula. The main characteristics of this sorting method is the use of interval or sometimes called gap. This sorting algorithm has a 0(n) average and worst case complexity as it depends on the gap sequence and it means it is quite good when using it on a medium size data set.  \")"
   ]
  },
  {
   "cell_type": "code",
   "execution_count": 7,
   "id": "stable-aerospace",
   "metadata": {},
   "outputs": [
    {
     "name": "stdout",
     "output_type": "stream",
     "text": [
      "Discuss your learnings on Chapter 16. Minimum of 200 characters\n",
      "Chapter 16 learnings are the following\n",
      "In this chapter I learned how a selection sort sorts a raw data. Selection algorithm is a simple sorting algorithm like from the word itself it selects a value from the right side and it will be put at the left side, it sorts the data by a repeatedly finding the minimum value of data from the unsorted part which is the right side and putting it at the beginning which is the left side. This sorting algorithm is an in-place comparison-based algorithm in which the list is divided into two parts, the sorted part at the left end and the unsorted part at the right end. Initially, the sorted part is empty and the unsorted part is the entire list. An in place comparison algorithm in which the in place comparison sort is a type of sorting algorithm that only reads the list elements through a single abstract comparison operation often a a less than or equal to operator or a three-way comparison that determines which of two elements should occur first in the final sorted list. This type of soting algorithm is not suitable for a bigger data since the average and worst case complexities is 0(n^2) in which n is the number of items. In coding this sorting algorithm it uses a for loop just like in the video and the result of the array is an ascending order and if you want to order it in a descending order just change the condition inside the for loop like from the video the code if arr[j] < arr[min_index]: in this case just change the arrow head or the less than sign into a greater than sign.\n"
     ]
    }
   ],
   "source": [
    "print (\"Discuss your learnings on Chapter 16. Minimum of 200 characters\")\n",
    "print (\"Chapter 16 learnings are the following\")\n",
    "print (\"In this chapter I learned how a selection sort sorts a raw data. Selection algorithm is a simple sorting algorithm like from the word itself it selects a value from the right side and it will be put at the left side, it sorts the data by a repeatedly finding the minimum value of data from the unsorted part which is the right side and putting it at the beginning which is the left side. This sorting algorithm is an in-place comparison-based algorithm in which the list is divided into two parts, the sorted part at the left end and the unsorted part at the right end. Initially, the sorted part is empty and the unsorted part is the entire list. An in place comparison algorithm in which the in place comparison sort is a type of sorting algorithm that only reads the list elements through a single abstract comparison operation often a a less than or equal to operator or a three-way comparison that determines which of two elements should occur first in the final sorted list. This type of soting algorithm is not suitable for a bigger data since the average and worst case complexities is 0(n^2) in which n is the number of items. In coding this sorting algorithm it uses a for loop just like in the video and the result of the array is an ascending order and if you want to order it in a descending order just change the condition inside the for loop like from the video the code if arr[j] < arr[min_index]: in this case just change the arrow head or the less than sign into a greater than sign.\")\n",
    "\n",
    "\n"
   ]
  },
  {
   "cell_type": "code",
   "execution_count": 10,
   "id": "unlikely-change",
   "metadata": {},
   "outputs": [
    {
     "name": "stdout",
     "output_type": "stream",
     "text": [
      "Discuss your learnings on Chapter 17. Minimum of 200 characters\n",
      "Chapter 17 learnings are the following\n",
      "In this chapter I learned how the recursion works even though it just simple or the introduction part of the recursion. Recursive functions use something called the call stack. Many programming languages uses recursion in stack, when a program calls a function, that function goes on top of the call stack. This similar to a stack of coins, you add things one at a time, then when you are ready to take something off, you always take off the top item first. The recursion method is somewhat the same as the fibonacci series where it adds the two numbers or elements in the array, but you could also use the fibonacci in recursion like in the video a sequence from 0 to 8 and with the index from 0-6 when you call the function fib with the index it will give you the total added number in that index. A recursive function can go infinite like a loop, to avoid infinite running of recursive function, a recursive function must have a base condition so that it will no go on forever like in the video he uses the if, in which he set the condition so that when the condition is met it will stop calling itself recursively. \n"
     ]
    }
   ],
   "source": [
    "print (\"Discuss your learnings on Chapter 17. Minimum of 200 characters\")\n",
    "print (\"Chapter 17 learnings are the following\")\n",
    "print (\"In this chapter I learned how the recursion works even though it just simple or the introduction part of the recursion. Recursive functions use something called the call stack. Many programming languages uses recursion in stack, when a program calls a function, that function goes on top of the call stack. This similar to a stack of coins, you add things one at a time, then when you are ready to take something off, you always take off the top item first. The recursion method is somewhat the same as the fibonacci series where it adds the two numbers or elements in the array, but you could also use the fibonacci in recursion like in the video a sequence from 0 to 8 and with the index from 0-6 when you call the function fib with the index it will give you the total added number in that index. A recursive function can go infinite like a loop, to avoid infinite running of recursive function, a recursive function must have a base condition so that it will no go on forever like in the video he uses the if, in which he set the condition so that when the condition is met it will stop calling itself recursively. \")\n",
    "\n"
   ]
  },
  {
   "cell_type": "code",
   "execution_count": 21,
   "id": "faced-communication",
   "metadata": {},
   "outputs": [
    {
     "name": "stdout",
     "output_type": "stream",
     "text": [
      "1. Implement the simple methods get_num and get_den that will return the numerator and denominator of a fraction.\n",
      "15/19\n",
      "15\n",
      "19\n"
     ]
    }
   ],
   "source": [
    "print (\"1. Implement the simple methods get_num and get_den that will return the numerator and denominator of a fraction.\")\n",
    "\n",
    "class Fraction:\n",
    "\n",
    "    def __init__(self, top, bottom):\n",
    "\n",
    "        self.num = top        # the numerator is on top\n",
    "        self.den = bottom     # the denominator is on the bottom\n",
    "\n",
    "    def __str__(self):\n",
    "        return str(self.num) + \"/\" + str(self.den)\n",
    "\n",
    "    def getNum(self):\n",
    "        return self.num\n",
    "\n",
    "    def getDen(self):\n",
    "        return self.den\n",
    "\n",
    "fraction_1 = Fraction(15, 19)\n",
    "print(fraction_1)\n",
    "\n",
    "print(fraction_1.getNum())\n",
    "print(fraction_1.getDen())"
   ]
  },
  {
   "cell_type": "code",
   "execution_count": 25,
   "id": "serious-drink",
   "metadata": {},
   "outputs": [
    {
     "name": "stdout",
     "output_type": "stream",
     "text": [
      "2. Research the __radd__ method. How does it differ from __add__? When is it used? Implement __radd__\n",
      "These methods are called to implement the binary arithmetic operations (+, -, *, /, //, %, divmod(), pow(), **, <<, >>, &, , |) with reflected (swapped) operands. These functions are only called if the left operand does not support the corresponding operation and the operands are of different types.\n",
      "a\n",
      "b\n",
      "ab\n",
      "ab\n"
     ]
    }
   ],
   "source": [
    "print(\"2. Research the __radd__ method. How does it differ from __add__? When is it used? Implement __radd__\")\n",
    "print(\"These methods are called to implement the binary arithmetic operations (+, -, *, /, //, %, divmod(), pow(), **, <<, >>, &, , |) with reflected (swapped) operands. These functions are only called if the left operand does not support the corresponding operation and the operands are of different types.\")\n",
    "\n",
    "class A:\n",
    "    def __init__(self):\n",
    "        self.s = \"a\"\n",
    "\n",
    "    def __add__(self, other):\n",
    "        return self.s + other.s\n",
    "\n",
    "    def __radd__(self, other):\n",
    "        return self + other\n",
    "\n",
    "    def __str__(self):\n",
    "        return self.s\n",
    "\n",
    "class B:\n",
    "    def __init__(self):\n",
    "        self.s = \"b\"\n",
    "\n",
    "    def __str__(self):\n",
    "        return self.s\n",
    "\n",
    "\n",
    "if __name__ == '__main__':\n",
    "    print(A())\n",
    "    print(B())\n",
    "    print(A() + B())\n",
    "    print(B() + A())\n"
   ]
  },
  {
   "cell_type": "code",
   "execution_count": 27,
   "id": "conceptual-writing",
   "metadata": {},
   "outputs": [
    {
     "name": "stdout",
     "output_type": "stream",
     "text": [
      "Research the __repr__ method. How does it differ from __str__? When is it used? Implement __repr__.\n",
      "In short, the goal of __repr__ is to be unambiguous and __str__ is to be readable. Return a string containing a printable representation of an object. ... The difference with repr(object) is that str(object) does not always attempt to return a string that is acceptable to eval() ; its goal is to return a printable string.\n"
     ]
    },
    {
     "data": {
      "text/plain": [
       "'datetime.datetime(2012, 3, 14, 9, 21, 58, 130922)'"
      ]
     },
     "execution_count": 27,
     "metadata": {},
     "output_type": "execute_result"
    }
   ],
   "source": [
    "print(\"3. Research the __repr__ method. How does it differ from __str__? When is it used? Implement __repr__.\")\n",
    "print(\"In short, the goal of __repr__ is to be unambiguous and __str__ is to be readable. Return a string containing a printable representation of an object. ... The difference with repr(object) is that str(object) does not always attempt to return a string that is acceptable to eval() ; its goal is to return a printable string.\")\n",
    "\n",
    "import datetime\n",
    "today = datetime.datetime.now()\n",
    "str(today)\n",
    "'2012-03-14 09:21:58.130922'\n",
    "repr(today)\n",
    "'datetime.datetime(2012, 3, 14, 9, 21, 58, 130922)'\n"
   ]
  },
  {
   "cell_type": "code",
   "execution_count": 31,
   "id": "qualified-analysis",
   "metadata": {},
   "outputs": [
    {
     "name": "stdout",
     "output_type": "stream",
     "text": [
      "4. The most simple arithmetic circuit is known as the half adder. Research the simple half-adder circuit. Implement this circuit.\n",
      " A half adder is a type of adder, an electronic circuit that performs the addition of numbers. The half adder is able to add two single binary digits and provide the output plus a carrying value. It has two inputs, called A and B, and two outputs S (sum) and C (carry).\n",
      "Lean  15\n",
      "Gals 0\n"
     ]
    }
   ],
   "source": [
    "print(\"4. The most simple arithmetic circuit is known as the half adder. Research the simple half-adder circuit. Implement this circuit.\")\n",
    "print(\" A half adder is a type of adder, an electronic circuit that performs the addition of numbers. The half adder is able to add two single binary digits and provide the output plus a carrying value. It has two inputs, called A and B, and two outputs S (sum) and C (carry).\")\n",
    "\n",
    "def getResult(A, B):\n",
    "    Sum = A ^ B\n",
    "    Carry = A & B\n",
    "      \n",
    "    \n",
    "    print(\"Sum \", Sum)\n",
    "    print(\"Carry\", Carry)\n",
    "  \n",
    "  \n",
    "A = 0\n",
    "B = 1\n",
    "  \n",
    "getResult(A, B)\n",
    "\n",
    "\n"
   ]
  },
  {
   "cell_type": "code",
   "execution_count": 34,
   "id": "abroad-married",
   "metadata": {},
   "outputs": [
    {
     "name": "stdout",
     "output_type": "stream",
     "text": [
      "5. Design a class to represent a playing card and another one to represent a deck of cards. Using these two classes, implement your favorite card game.\n",
      "Spade 1\n",
      "Spade 2\n",
      "Spade 3\n",
      "Spade 4\n",
      "Spade 5\n",
      "Spade 6\n",
      "Spade 7\n",
      "Spade 8\n",
      "Spade 9\n",
      "Spade 10\n",
      "Spade J\n",
      "Spade Q\n",
      "Spade K\n",
      "Heart 1\n",
      "Heart 2\n",
      "Heart 3\n",
      "Heart 4\n",
      "Heart 5\n",
      "Heart 6\n",
      "Heart 7\n",
      "Heart 8\n",
      "Heart 9\n",
      "Heart 10\n",
      "Heart J\n",
      "Heart Q\n",
      "Heart K\n",
      "Dimond 1\n",
      "Dimond 2\n",
      "Dimond 3\n",
      "Dimond 4\n",
      "Dimond 5\n",
      "Dimond 6\n",
      "Dimond 7\n",
      "Dimond 8\n",
      "Dimond 9\n",
      "Dimond 10\n",
      "Dimond J\n",
      "Dimond Q\n",
      "Dimond K\n",
      "Club 1\n",
      "Club 2\n",
      "Club 3\n",
      "Club 4\n",
      "Club 5\n",
      "Club 6\n",
      "Club 7\n",
      "Club 8\n",
      "Club 9\n",
      "Club 10\n",
      "Club J\n",
      "Club Q\n",
      "Club K\n"
     ]
    }
   ],
   "source": [
    "print(\"5. Design a class to represent a playing card and another one to represent a deck of cards. Using these two classes, implement your favorite card game.\")\n",
    "\n",
    "\n",
    "from enum import e_num          \n",
    "from enum import unique        \n",
    "\n",
    "@unique\n",
    "class Suit(e_num):              \n",
    "    Spade = 1\n",
    "    Heart = 2\n",
    "    Dimond = 3 \n",
    "    Club = 4\n",
    "\n",
    "    def __str__(self):\n",
    "        return self.name\n",
    "\n",
    "@unique\n",
    "class Number(e_num):\n",
    "    N1 = 1\n",
    "    N2 = 2\n",
    "    N3 = 3\n",
    "    N4 = 4\n",
    "    N5 = 5\n",
    "    N6 = 6\n",
    "    N7 = 7\n",
    "    N8 = 8\n",
    "    N9 = 9\n",
    "    N10 = 10\n",
    "    J = 11\n",
    "    Q = 12\n",
    "    K = 13 \n",
    "\n",
    "    def __str__(self):\n",
    "        if self.value <= 10:\n",
    "            return str(self.value)          \n",
    "        return self.name\n",
    "\n",
    "class Card(object):\n",
    "    def __init__(self, suit, number):\n",
    "        self.suit = suit\n",
    "        self.number = number\n",
    "\n",
    "    def __str__(self):\n",
    "        return '{} {}'.format(self.suit, self.number)\n",
    "\n",
    "cards = [ Card(suit, number) for suit in Suit for number in Number ]\n",
    "for card in cards:\n",
    "    print (card)"
   ]
  },
  {
   "cell_type": "code",
   "execution_count": 36,
   "id": "fantastic-reply",
   "metadata": {},
   "outputs": [
    {
     "name": "stdout",
     "output_type": "stream",
     "text": [
      "6. Design and implement an experiment to do benchmark comparisons of the two queue(enqueue,dequeue) implementations. What can you learn from such an experiment?\n",
      "Enqueue for 1000 items: 1001\n",
      "Enqueue for 1000 items: 102\n",
      "Enqueue for 1000 items: 169\n",
      "Enqueue for 1000 items: 170\n",
      "==================================================\n",
      "Dequeue for 1000 items: 0\n",
      "Dequeue for 1000 items: 798\n",
      "Dequeue for 1000 items: 1385\n",
      "Dequeue for 1000 items: 149\n"
     ]
    }
   ],
   "source": [
    "print (\"6. Design and implement an experiment to do benchmark comparisons of the two queue(enqueue,dequeue) implementations. What can you learn from such an experiment?\")\n",
    "\n",
    "import datetime as dt\n",
    "import time\n",
    "\n",
    "class Queue:\n",
    "\n",
    "    def __init__(self):\n",
    "        self.items = []\n",
    "\n",
    "    def is_empty(self):\n",
    "        return self.items == []\n",
    "\n",
    "    def enqueue(self, value):\n",
    "        self.items.append(value)\n",
    "\n",
    "    def dequeue(self):\n",
    "        return self.items.pop(0)\n",
    "\n",
    "    def size(self):\n",
    "        return len(self.items)\n",
    "\n",
    "def testQueueADT():\n",
    "    Q = Queue()\n",
    "    times = []\n",
    "    NUMS = [1000, 10000, 100000, 1000000]\n",
    "    for N in NUMS:\n",
    "        Q = Queue()\n",
    "        start = dt.datetime.now()\n",
    "        for i in range(N):\n",
    "            Q.enqueue(i)\n",
    "        end = dt.datetime.now()\n",
    "        elapsed = ((end - start).microseconds*1000)/N\n",
    "        print (\"Enqueue for %d items: %d\" % (1000, elapsed))\n",
    "\n",
    "    print (\"==================================================\")\n",
    "    times = []\n",
    "    for N in NUMS:\n",
    "        Q = Queue()\n",
    "        for i in range(N):\n",
    "            Q.enqueue(i)\n",
    "        start = dt.datetime.now()\n",
    "        for i in range(N):\n",
    "            Q.dequeue()\n",
    "        end = dt.datetime.now()\n",
    "        elapsed = ((end - start).microseconds*1000)/N\n",
    "        print (\"Dequeue for %d items: %d\" % (1000, elapsed))\n",
    "\n",
    "\n",
    "def main():\n",
    "    testQueueADT()\n",
    "\n",
    "if __name__ == '__main__':\n",
    "    main()\n",
    "\n",
    "print(\"I learn that with list implementation one of the enqueue/dequeue operation would be O(n) and if we need both enqueue/dequeue operation be O(1) then we need to resort to linked list implementation of Queue.\")"
   ]
  },
  {
   "cell_type": "code",
   "execution_count": 62,
   "id": "arbitrary-sudan",
   "metadata": {},
   "outputs": [
    {
     "name": "stdout",
     "output_type": "stream",
     "text": [
      "7. Consider a real life situation. Formulate a question and then design a simulation that can help to answer it. Possible situations include:Cars lined up at a car wash, customers at a grocery store check-out, airplanes taking off and landing on a runway, a bank teller\n",
      "A lot of cars are lining and you want to consider for a 20% discount, so you need to have a recursion. The program is similar to the car wash simulation from the text but utilizes 5 queues instead of 1 to represent five cashiers with checkout lines. Customers enter the shortest line (queue) to check out. If the lines are of equal size then the customer enters the first line. Transaction times (ringing up customers) are random (within the range of 10 to 600 seconds). When the program is finished running it prints out the number of customers served and the average wait time in seconds.\n",
      "Airplanes landing simulationNew plane arrives in airspace on average every 10 minutes. It takes 7 minutes to land the plane before another plance can land. Planes must wait their turn to land\n"
     ]
    }
   ],
   "source": [
    "print(\"7. Consider a real life situation. Formulate a question and then design a simulation that can help to answer it. Possible situations include:Cars lined up at a car wash, customers at a grocery store check-out, airplanes taking off and landing on a runway, a bank teller\")\n",
    "print(\"A lot of cars are lining and you want to consider for a 20% discount, so you need to have a recursion. The program is similar to the car wash simulation from the text but utilizes 5 queues instead of 1 to represent five cashiers with checkout lines. Customers enter the shortest line (queue) to check out. If the lines are of equal size then the customer enters the first line. Transaction times (ringing up customers) are random (within the range of 10 to 600 seconds). When the program is finished running it prints out the number of customers served and the average wait time in seconds.\")\n",
    "print(\"Airplanes landing simulationNew plane arrives in airspace on average every 10 minutes. It takes 7 minutes to land the plane before another plance can land. Planes must wait their turn to land\")"
   ]
  },
  {
   "cell_type": "code",
   "execution_count": 50,
   "id": "special-slovakia",
   "metadata": {},
   "outputs": [
    {
     "name": "stdout",
     "output_type": "stream",
     "text": [
      "8. Implement a queue using linked lists.\n",
      "Queue Front 40\n",
      "Queue Rear 50\n"
     ]
    }
   ],
   "source": [
    "print(\"8. Implement a queue using linked lists.\")\n",
    "\n",
    "class N:\n",
    "    def __init__(self, data):\n",
    "        self.data = data\n",
    "        self.next = None\n",
    "\n",
    "\n",
    "class Queue:\n",
    "\n",
    "    def __init__(self):\n",
    "        self.front = self.rear = None\n",
    "\n",
    "    def empt(self):\n",
    "        return self.front == None\n",
    "\n",
    "    def EnQueue(self, item):\n",
    "        temp = N(item)\n",
    "\n",
    "        if self.rear == None:\n",
    "            self.front = self.rear = temp\n",
    "            return\n",
    "        self.rear.next = temp\n",
    "        self.rear = temp\n",
    "\n",
    "    # Method to remove an item from queue\n",
    "    def DeQueue(self):\n",
    "\n",
    "        if self.empt():\n",
    "            return\n",
    "        temp = self.front\n",
    "        self.front = temp.next\n",
    "\n",
    "        if (self.front == None):\n",
    "            self.rear = None\n",
    "\n",
    "\n",
    "\n",
    "if __name__ == '__main__':\n",
    "    q = Queue()\n",
    "    q.EnQueue(10)\n",
    "    q.EnQueue(20)\n",
    "    q.DeQueue()\n",
    "    q.DeQueue()\n",
    "    q.EnQueue(30)\n",
    "    q.EnQueue(40)\n",
    "    q.EnQueue(50)\n",
    "    q.DeQueue()\n",
    "    print(\"Queue Front \" + str(q.front.data))\n",
    "    print(\"Queue Rear \" + str(q.rear.data))"
   ]
  },
  {
   "cell_type": "code",
   "execution_count": 54,
   "id": "weekly-signature",
   "metadata": {},
   "outputs": [
    {
     "name": "stdout",
     "output_type": "stream",
     "text": [
      "9. Write a recursive function to compute the factorial of a number.\n",
      "The factorial of 55 is 12696403353658275925965100847566516959580321051449436762275840000000000000\n"
     ]
    }
   ],
   "source": [
    "print(\"9. Write a recursive function to compute the factorial of a number.\")\n",
    "\n",
    "def factorial(n):\n",
    "   if n == 1:\n",
    "       return n\n",
    "   else:\n",
    "       return n*factorial(n-1)\n",
    "\n",
    "enum = 55\n",
    "\n",
    "if enum < 0:\n",
    "   print(\"Sorry, factorial does not exist for negative numbers\")\n",
    "elif enum == 0:\n",
    "   print(\"The factorial of 0 is 1\")\n",
    "else:\n",
    "   print(\"The factorial of\", enum, \"is\", recur_factorial(enum))"
   ]
  },
  {
   "cell_type": "code",
   "execution_count": 58,
   "id": "advised-russian",
   "metadata": {},
   "outputs": [
    {
     "name": "stdout",
     "output_type": "stream",
     "text": [
      "10. Set up a random experiment to test the difference between a sequential search and a binary search on a list of integers.\n",
      "Element is present at index  3\n"
     ]
    }
   ],
   "source": [
    "print(\"10. Set up a random experiment to test the difference between a sequential search and a binary search on a list of integers.\")\n",
    "\n",
    "import random\n",
    "def getRandom(x,y):\n",
    "    tmp=(x + random.randint(0,100000) % (y-x+1))\n",
    "    return tmp\n",
    "\n",
    "  \n",
    "def randomizedBinarySearch(arr,l,r,x) :\n",
    "    if r>=l:       \n",
    "        mid=getRandom(l,r)                  \n",
    "        if arr[mid] == x:\n",
    "            return mid                     \n",
    "        if arr[mid]>x:\n",
    "            return randomizedBinarySearch(arr, l, mid-1, x)                      \n",
    "        return randomizedBinarySearch(arr, mid+1,r, x)\n",
    "              \n",
    "    return -1\n",
    "      \n",
    "   \n",
    "if __name__=='__main__':\n",
    "    arr = [2, 3, 4, 10, 40]\n",
    "    n=len(arr)\n",
    "    x=10\n",
    "    result = randomizedBinarySearch(arr, 0, n-1, x)\n",
    "    if result==-1:\n",
    "        print('Element is not present in array')\n",
    "    else:\n",
    "        print('Element is present at index ', result)"
   ]
  },
  {
   "cell_type": "code",
   "execution_count": 60,
   "id": "adjacent-essay",
   "metadata": {},
   "outputs": [
    {
     "name": "stdout",
     "output_type": "stream",
     "text": [
      "11. Suppose you are a computer scientist/art thief who has broken into a major art gallery. All you have with you to haul out your stolen art is your knapsack which only holds W pounds of art, but for every piece of art you know its value and its weight. Write a dynamic programming function to help you maximize your profit. Here is a sample problem for you to use to get started: Suppose your knapsack can hold a total weight of 20. You have 5 items as follows:\n",
      "KNAPWEIGHT: -1   [0, 0, 0, 0, 0, 0, 0, 0, 0, 0, 0, 0, 0, 0, 0, 0, 0, 0, 0, 0, 0]\n",
      "KNAPWEIGHT: 0   [0, 0, 0, 0, 0, 0, 0, 0, 0, 0, 0, 0, 0, 0, 0, 0, 0, 0, 0, 0, 0]\n",
      "KNAPWEIGHT: 1   [0, 0, 0, 0, 0, 0, 0, 0, 0, 0, 0, 0, 0, 0, 0, 0, 0, 0, 0, 0, 0]\n",
      "KNAPWEIGHT: 2   [0, 0, 3, 0, 0, 0, 0, 0, 0, 0, 0, 0, 0, 0, 0, 0, 0, 0, 0, 0, 0]\n",
      "KNAPWEIGHT: 3   [0, 0, 3, 4, 0, 0, 0, 0, 0, 0, 0, 0, 0, 0, 0, 0, 0, 0, 0, 0, 0]\n",
      "KNAPWEIGHT: 4   [0, 0, 3, 4, 8, 0, 0, 0, 0, 0, 0, 0, 0, 0, 0, 0, 0, 0, 0, 0, 0]\n",
      "KNAPWEIGHT: 5   [0, 0, 3, 4, 8, 8, 0, 0, 0, 0, 0, 0, 0, 0, 0, 0, 0, 0, 0, 0, 0]\n",
      "KNAPWEIGHT: 6   [0, 0, 3, 4, 8, 8, 11, 0, 0, 0, 0, 0, 0, 0, 0, 0, 0, 0, 0, 0, 0]\n",
      "KNAPWEIGHT: 7   [0, 0, 3, 4, 8, 8, 11, 12, 0, 0, 0, 0, 0, 0, 0, 0, 0, 0, 0, 0, 0]\n",
      "KNAPWEIGHT: 8   [0, 0, 3, 4, 8, 8, 11, 12, 16, 0, 0, 0, 0, 0, 0, 0, 0, 0, 0, 0, 0]\n",
      "KNAPWEIGHT: 9   [0, 0, 3, 4, 8, 8, 11, 12, 16, 16, 0, 0, 0, 0, 0, 0, 0, 0, 0, 0, 0]\n",
      "KNAPWEIGHT: 10   [0, 0, 3, 4, 8, 8, 11, 12, 16, 16, 19, 0, 0, 0, 0, 0, 0, 0, 0, 0, 0]\n",
      "KNAPWEIGHT: 11   [0, 0, 3, 4, 8, 8, 11, 12, 16, 16, 19, 20, 0, 0, 0, 0, 0, 0, 0, 0, 0]\n",
      "KNAPWEIGHT: 12   [0, 0, 3, 4, 8, 8, 11, 12, 16, 16, 19, 20, 24, 0, 0, 0, 0, 0, 0, 0, 0]\n",
      "KNAPWEIGHT: 13   [0, 0, 3, 4, 8, 8, 11, 12, 16, 16, 19, 20, 24, 24, 0, 0, 0, 0, 0, 0, 0]\n",
      "KNAPWEIGHT: 14   [0, 0, 3, 4, 8, 8, 11, 12, 16, 16, 19, 20, 24, 24, 27, 0, 0, 0, 0, 0, 0]\n",
      "KNAPWEIGHT: 15   [0, 0, 3, 4, 8, 8, 11, 12, 16, 16, 19, 20, 24, 24, 27, 28, 0, 0, 0, 0, 0]\n",
      "KNAPWEIGHT: 16   [0, 0, 3, 4, 8, 8, 11, 12, 16, 16, 19, 20, 24, 24, 27, 28, 32, 0, 0, 0, 0]\n",
      "KNAPWEIGHT: 17   [0, 0, 3, 4, 8, 8, 11, 12, 16, 16, 19, 20, 24, 24, 27, 28, 32, 32, 0, 0, 0]\n",
      "KNAPWEIGHT: 18   [0, 0, 3, 4, 8, 8, 11, 12, 16, 16, 19, 20, 24, 24, 27, 28, 32, 32, 35, 0, 0]\n",
      "KNAPWEIGHT: 19   [0, 0, 3, 4, 8, 8, 11, 12, 16, 16, 19, 20, 24, 24, 27, 28, 32, 32, 35, 36, 0]\n",
      "40\n",
      "[2, 2, 2, 3, 4, 2, 2, 3, 4, 2, 2, 3, 4, 2, 2, 3, 4, 2, 2, 3, 4]\n"
     ]
    }
   ],
   "source": [
    "print(\"11. Suppose you are a computer scientist/art thief who has broken into a major art gallery. All you have with you to haul out your stolen art is your knapsack which only holds W pounds of art, but for every piece of art you know its value and its weight. Write a dynamic programming function to help you maximize your profit. Here is a sample problem for you to use to get started: Suppose your knapsack can hold a total weight of 20. You have 5 items as follows:\")\n",
    "\n",
    "\n",
    "class StolenItem:\n",
    "    def __init__(self, theID, theValue, theWeight):\n",
    "        self.ID = theID\n",
    "        self.value = theValue\n",
    "        self.weight = theWeight\n",
    "\n",
    "\n",
    "def dpMaxProfit(itemList, knapWeight, maxProfits, weightsUsed):\n",
    "    maxProfit = 0\n",
    "\n",
    "    for knapWeights in range(knapWeight + 1):\n",
    "        print(\"KNAPWEIGHT:\", knapWeights - 1, \" \", maxProfits)\n",
    "        newItem = itemList[0]\n",
    "\n",
    "        for item in [x for x in itemList if x.weight <= knapWeights]:\n",
    "            if maxProfits[knapWeights - item.weight] + item.value > maxProfit:\n",
    "                maxProfit = maxProfits[knapWeights - item.weight] + item.value\n",
    "                newItem = item\n",
    "        maxProfits[knapWeights] = maxProfit\n",
    "        weightsUsed[knapWeights] = newItem.weight\n",
    "\n",
    "    return (maxProfits[knapWeight])\n",
    "\n",
    "\n",
    "def reMaxProfit(itemList, knapWeight):\n",
    "    if knapWeight < 1:\n",
    "        return 0\n",
    "\n",
    "    l1 = [x for x in itemList if x.weight <= knapWeight]\n",
    "    profitList = [(item.value + reMaxProfit(itemList, knapWeight - item.weight)) for item in l1]\n",
    "\n",
    "    if len(profitList) > 0:\n",
    "        return max(profitList)\n",
    "    else:\n",
    "        return 0\n",
    "\n",
    "\n",
    "def _weightsUsed(weightList, knapWeight):\n",
    "    weight = knapWeight\n",
    "    while weight > 0:\n",
    "        print(weightList[weight])\n",
    "        weight -= weightList[weight]\n",
    "\n",
    "\n",
    "recurse = True\n",
    "\n",
    "\n",
    "\n",
    "def main():\n",
    "\n",
    "    itemList = [StolenItem(1, 3, 2), StolenItem(2, 4, 3), StolenItem(3, 8, 4), StolenItem(4, 8, 5),\n",
    "                StolenItem(5, 10, 9)]\n",
    "    knapWeight = 20\n",
    "    if recurse:\n",
    "        maxProfits = [0] * (knapWeight + 1)\n",
    "        weightsUsed = [0] * (knapWeight + 1)\n",
    "        print(dpMaxProfit(itemList, knapWeight, maxProfits, weightsUsed))\n",
    "        print(weightsUsed)\n",
    "    else:\n",
    "        print(reMaxProfit(itemList, knapWeight))\n",
    "\n",
    "\n",
    "if __name__ == \"__main__\":\n",
    "    main()"
   ]
  },
  {
   "cell_type": "code",
   "execution_count": null,
   "id": "private-motorcycle",
   "metadata": {},
   "outputs": [],
   "source": []
  }
 ],
 "metadata": {
  "kernelspec": {
   "display_name": "Python 3",
   "language": "python",
   "name": "python3"
  },
  "language_info": {
   "codemirror_mode": {
    "name": "ipython",
    "version": 3
   },
   "file_extension": ".py",
   "mimetype": "text/x-python",
   "name": "python",
   "nbconvert_exporter": "python",
   "pygments_lexer": "ipython3",
   "version": "3.9.1"
  }
 },
 "nbformat": 4,
 "nbformat_minor": 5
}
